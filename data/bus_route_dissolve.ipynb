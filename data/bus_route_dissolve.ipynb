{
 "cells": [
  {
   "cell_type": "code",
   "execution_count": 1,
   "metadata": {},
   "outputs": [],
   "source": [
    "import geopandas as gpd"
   ]
  },
  {
   "cell_type": "markdown",
   "metadata": {},
   "source": [
    "### Read in the bus route JSON"
   ]
  },
  {
   "cell_type": "code",
   "execution_count": 2,
   "metadata": {},
   "outputs": [],
   "source": [
    "df = gpd.read_file('./trimet-routes-bus-freq.json')"
   ]
  },
  {
   "cell_type": "markdown",
   "metadata": {},
   "source": [
    "### Take a peek at the data frame"
   ]
  },
  {
   "cell_type": "code",
   "execution_count": 3,
   "metadata": {},
   "outputs": [
    {
     "data": {
      "text/html": [
       "<div>\n",
       "<style scoped>\n",
       "    .dataframe tbody tr th:only-of-type {\n",
       "        vertical-align: middle;\n",
       "    }\n",
       "\n",
       "    .dataframe tbody tr th {\n",
       "        vertical-align: top;\n",
       "    }\n",
       "\n",
       "    .dataframe thead th {\n",
       "        text-align: right;\n",
       "    }\n",
       "</style>\n",
       "<table border=\"1\" class=\"dataframe\">\n",
       "  <thead>\n",
       "    <tr style=\"text-align: right;\">\n",
       "      <th></th>\n",
       "      <th>rte</th>\n",
       "      <th>dir</th>\n",
       "      <th>rte_desc</th>\n",
       "      <th>public_rte</th>\n",
       "      <th>dir_desc</th>\n",
       "      <th>frequent</th>\n",
       "      <th>type</th>\n",
       "      <th>geometry</th>\n",
       "    </tr>\n",
       "  </thead>\n",
       "  <tbody>\n",
       "    <tr>\n",
       "      <th>0</th>\n",
       "      <td>2</td>\n",
       "      <td>0</td>\n",
       "      <td>Division</td>\n",
       "      <td>2</td>\n",
       "      <td>To Gresham Transit Center</td>\n",
       "      <td>True</td>\n",
       "      <td>BUS</td>\n",
       "      <td>MULTILINESTRING ((-122.67858 45.51692, -122.67...</td>\n",
       "    </tr>\n",
       "    <tr>\n",
       "      <th>1</th>\n",
       "      <td>2</td>\n",
       "      <td>1</td>\n",
       "      <td>Division</td>\n",
       "      <td>2</td>\n",
       "      <td>To Portland City Center</td>\n",
       "      <td>True</td>\n",
       "      <td>BUS</td>\n",
       "      <td>MULTILINESTRING ((-122.67943 45.51764, -122.67...</td>\n",
       "    </tr>\n",
       "    <tr>\n",
       "      <th>2</th>\n",
       "      <td>4</td>\n",
       "      <td>0</td>\n",
       "      <td>Fessenden</td>\n",
       "      <td>4</td>\n",
       "      <td>To St Johns</td>\n",
       "      <td>True</td>\n",
       "      <td>BUS</td>\n",
       "      <td>MULTILINESTRING ((-122.75745 45.59301, -122.75...</td>\n",
       "    </tr>\n",
       "    <tr>\n",
       "      <th>3</th>\n",
       "      <td>4</td>\n",
       "      <td>1</td>\n",
       "      <td>Fessenden</td>\n",
       "      <td>4</td>\n",
       "      <td>To Portland City Center</td>\n",
       "      <td>True</td>\n",
       "      <td>BUS</td>\n",
       "      <td>LINESTRING (-122.75180 45.58786, -122.75182 45...</td>\n",
       "    </tr>\n",
       "    <tr>\n",
       "      <th>4</th>\n",
       "      <td>6</td>\n",
       "      <td>0</td>\n",
       "      <td>Martin Luther King Jr Blvd</td>\n",
       "      <td>6</td>\n",
       "      <td>To Jantzen Beach</td>\n",
       "      <td>True</td>\n",
       "      <td>BUS</td>\n",
       "      <td>MULTILINESTRING ((-122.69067 45.51696, -122.69...</td>\n",
       "    </tr>\n",
       "  </tbody>\n",
       "</table>\n",
       "</div>"
      ],
      "text/plain": [
       "   rte  dir                    rte_desc public_rte                   dir_desc  \\\n",
       "0    2    0                    Division          2  To Gresham Transit Center   \n",
       "1    2    1                    Division          2    To Portland City Center   \n",
       "2    4    0                   Fessenden          4                To St Johns   \n",
       "3    4    1                   Fessenden          4    To Portland City Center   \n",
       "4    6    0  Martin Luther King Jr Blvd          6           To Jantzen Beach   \n",
       "\n",
       "  frequent type                                           geometry  \n",
       "0     True  BUS  MULTILINESTRING ((-122.67858 45.51692, -122.67...  \n",
       "1     True  BUS  MULTILINESTRING ((-122.67943 45.51764, -122.67...  \n",
       "2     True  BUS  MULTILINESTRING ((-122.75745 45.59301, -122.75...  \n",
       "3     True  BUS  LINESTRING (-122.75180 45.58786, -122.75182 45...  \n",
       "4     True  BUS  MULTILINESTRING ((-122.69067 45.51696, -122.69...  "
      ]
     },
     "execution_count": 3,
     "metadata": {},
     "output_type": "execute_result"
    }
   ],
   "source": [
    "df.head()"
   ]
  },
  {
   "cell_type": "markdown",
   "metadata": {},
   "source": [
    "### Take a look at Route 57 which we know we have two multiline strings for"
   ]
  },
  {
   "cell_type": "code",
   "execution_count": 4,
   "metadata": {},
   "outputs": [
    {
     "data": {
      "text/html": [
       "<div>\n",
       "<style scoped>\n",
       "    .dataframe tbody tr th:only-of-type {\n",
       "        vertical-align: middle;\n",
       "    }\n",
       "\n",
       "    .dataframe tbody tr th {\n",
       "        vertical-align: top;\n",
       "    }\n",
       "\n",
       "    .dataframe thead th {\n",
       "        text-align: right;\n",
       "    }\n",
       "</style>\n",
       "<table border=\"1\" class=\"dataframe\">\n",
       "  <thead>\n",
       "    <tr style=\"text-align: right;\">\n",
       "      <th></th>\n",
       "      <th>rte</th>\n",
       "      <th>dir</th>\n",
       "      <th>rte_desc</th>\n",
       "      <th>public_rte</th>\n",
       "      <th>dir_desc</th>\n",
       "      <th>frequent</th>\n",
       "      <th>type</th>\n",
       "      <th>geometry</th>\n",
       "    </tr>\n",
       "  </thead>\n",
       "  <tbody>\n",
       "    <tr>\n",
       "      <th>22</th>\n",
       "      <td>57</td>\n",
       "      <td>0</td>\n",
       "      <td>TV Hwy/Forest Grove</td>\n",
       "      <td>57</td>\n",
       "      <td>To Forest Grove</td>\n",
       "      <td>True</td>\n",
       "      <td>BUS</td>\n",
       "      <td>MULTILINESTRING ((-122.98785 45.52011, -122.98...</td>\n",
       "    </tr>\n",
       "    <tr>\n",
       "      <th>23</th>\n",
       "      <td>57</td>\n",
       "      <td>1</td>\n",
       "      <td>TV Hwy/Forest Grove</td>\n",
       "      <td>57</td>\n",
       "      <td>To Beaverton Transit Center</td>\n",
       "      <td>True</td>\n",
       "      <td>BUS</td>\n",
       "      <td>MULTILINESTRING ((-123.11539 45.51856, -123.11...</td>\n",
       "    </tr>\n",
       "  </tbody>\n",
       "</table>\n",
       "</div>"
      ],
      "text/plain": [
       "    rte  dir             rte_desc public_rte                     dir_desc  \\\n",
       "22   57    0  TV Hwy/Forest Grove         57              To Forest Grove   \n",
       "23   57    1  TV Hwy/Forest Grove         57  To Beaverton Transit Center   \n",
       "\n",
       "   frequent type                                           geometry  \n",
       "22     True  BUS  MULTILINESTRING ((-122.98785 45.52011, -122.98...  \n",
       "23     True  BUS  MULTILINESTRING ((-123.11539 45.51856, -123.11...  "
      ]
     },
     "execution_count": 4,
     "metadata": {},
     "output_type": "execute_result"
    }
   ],
   "source": [
    "df.loc[df['public_rte'] == '57']"
   ]
  },
  {
   "cell_type": "markdown",
   "metadata": {},
   "source": [
    "### Create a data frame using the route number and geometry that we can dissolve the routes with"
   ]
  },
  {
   "cell_type": "code",
   "execution_count": 5,
   "metadata": {},
   "outputs": [],
   "source": [
    "bus = df[['public_rte', 'geometry']]"
   ]
  },
  {
   "cell_type": "code",
   "execution_count": 6,
   "metadata": {},
   "outputs": [
    {
     "data": {
      "text/html": [
       "<div>\n",
       "<style scoped>\n",
       "    .dataframe tbody tr th:only-of-type {\n",
       "        vertical-align: middle;\n",
       "    }\n",
       "\n",
       "    .dataframe tbody tr th {\n",
       "        vertical-align: top;\n",
       "    }\n",
       "\n",
       "    .dataframe thead th {\n",
       "        text-align: right;\n",
       "    }\n",
       "</style>\n",
       "<table border=\"1\" class=\"dataframe\">\n",
       "  <thead>\n",
       "    <tr style=\"text-align: right;\">\n",
       "      <th></th>\n",
       "      <th>public_rte</th>\n",
       "      <th>geometry</th>\n",
       "    </tr>\n",
       "  </thead>\n",
       "  <tbody>\n",
       "    <tr>\n",
       "      <th>0</th>\n",
       "      <td>2</td>\n",
       "      <td>MULTILINESTRING ((-122.67858 45.51692, -122.67...</td>\n",
       "    </tr>\n",
       "    <tr>\n",
       "      <th>1</th>\n",
       "      <td>2</td>\n",
       "      <td>MULTILINESTRING ((-122.67943 45.51764, -122.67...</td>\n",
       "    </tr>\n",
       "    <tr>\n",
       "      <th>2</th>\n",
       "      <td>4</td>\n",
       "      <td>MULTILINESTRING ((-122.75745 45.59301, -122.75...</td>\n",
       "    </tr>\n",
       "    <tr>\n",
       "      <th>3</th>\n",
       "      <td>4</td>\n",
       "      <td>LINESTRING (-122.75180 45.58786, -122.75182 45...</td>\n",
       "    </tr>\n",
       "    <tr>\n",
       "      <th>4</th>\n",
       "      <td>6</td>\n",
       "      <td>MULTILINESTRING ((-122.69067 45.51696, -122.69...</td>\n",
       "    </tr>\n",
       "  </tbody>\n",
       "</table>\n",
       "</div>"
      ],
      "text/plain": [
       "  public_rte                                           geometry\n",
       "0          2  MULTILINESTRING ((-122.67858 45.51692, -122.67...\n",
       "1          2  MULTILINESTRING ((-122.67943 45.51764, -122.67...\n",
       "2          4  MULTILINESTRING ((-122.75745 45.59301, -122.75...\n",
       "3          4  LINESTRING (-122.75180 45.58786, -122.75182 45...\n",
       "4          6  MULTILINESTRING ((-122.69067 45.51696, -122.69..."
      ]
     },
     "execution_count": 6,
     "metadata": {},
     "output_type": "execute_result"
    }
   ],
   "source": [
    "bus.head()"
   ]
  },
  {
   "cell_type": "markdown",
   "metadata": {},
   "source": [
    "### Dissolve the data frame so our multidirectional routes with same number will animtate better in Leaflet map "
   ]
  },
  {
   "cell_type": "code",
   "execution_count": 7,
   "metadata": {},
   "outputs": [],
   "source": [
    "bus_routes = bus.dissolve(by='public_rte').reset_index()"
   ]
  },
  {
   "cell_type": "code",
   "execution_count": 8,
   "metadata": {},
   "outputs": [
    {
     "data": {
      "text/html": [
       "<div>\n",
       "<style scoped>\n",
       "    .dataframe tbody tr th:only-of-type {\n",
       "        vertical-align: middle;\n",
       "    }\n",
       "\n",
       "    .dataframe tbody tr th {\n",
       "        vertical-align: top;\n",
       "    }\n",
       "\n",
       "    .dataframe thead th {\n",
       "        text-align: right;\n",
       "    }\n",
       "</style>\n",
       "<table border=\"1\" class=\"dataframe\">\n",
       "  <thead>\n",
       "    <tr style=\"text-align: right;\">\n",
       "      <th></th>\n",
       "      <th>public_rte</th>\n",
       "      <th>geometry</th>\n",
       "    </tr>\n",
       "  </thead>\n",
       "  <tbody>\n",
       "    <tr>\n",
       "      <th>0</th>\n",
       "      <td>12</td>\n",
       "      <td>MULTILINESTRING ((-122.76825 45.43248, -122.76...</td>\n",
       "    </tr>\n",
       "    <tr>\n",
       "      <th>1</th>\n",
       "      <td>14</td>\n",
       "      <td>MULTILINESTRING ((-122.56347 45.47820, -122.56...</td>\n",
       "    </tr>\n",
       "    <tr>\n",
       "      <th>2</th>\n",
       "      <td>15</td>\n",
       "      <td>MULTILINESTRING ((-122.56281 45.51402, -122.56...</td>\n",
       "    </tr>\n",
       "    <tr>\n",
       "      <th>3</th>\n",
       "      <td>2</td>\n",
       "      <td>MULTILINESTRING ((-122.42647 45.50264, -122.42...</td>\n",
       "    </tr>\n",
       "    <tr>\n",
       "      <th>4</th>\n",
       "      <td>291</td>\n",
       "      <td>LINESTRING (-122.67530 45.52776, -122.67556 45...</td>\n",
       "    </tr>\n",
       "    <tr>\n",
       "      <th>5</th>\n",
       "      <td>33</td>\n",
       "      <td>MULTILINESTRING ((-122.58041 45.32412, -122.57...</td>\n",
       "    </tr>\n",
       "    <tr>\n",
       "      <th>6</th>\n",
       "      <td>4</td>\n",
       "      <td>MULTILINESTRING ((-122.67957 45.51475, -122.67...</td>\n",
       "    </tr>\n",
       "    <tr>\n",
       "      <th>7</th>\n",
       "      <td>54</td>\n",
       "      <td>MULTILINESTRING ((-122.67756 45.50620, -122.67...</td>\n",
       "    </tr>\n",
       "    <tr>\n",
       "      <th>8</th>\n",
       "      <td>56</td>\n",
       "      <td>MULTILINESTRING ((-122.74843 45.48617, -122.74...</td>\n",
       "    </tr>\n",
       "    <tr>\n",
       "      <th>9</th>\n",
       "      <td>57</td>\n",
       "      <td>MULTILINESTRING ((-122.95262 45.50328, -122.95...</td>\n",
       "    </tr>\n",
       "    <tr>\n",
       "      <th>10</th>\n",
       "      <td>6</td>\n",
       "      <td>MULTILINESTRING ((-122.66078 45.51341, -122.66...</td>\n",
       "    </tr>\n",
       "    <tr>\n",
       "      <th>11</th>\n",
       "      <td>72</td>\n",
       "      <td>MULTILINESTRING ((-122.56817 45.43560, -122.56...</td>\n",
       "    </tr>\n",
       "    <tr>\n",
       "      <th>12</th>\n",
       "      <td>73</td>\n",
       "      <td>MULTILINESTRING ((-122.56878 45.47913, -122.57...</td>\n",
       "    </tr>\n",
       "    <tr>\n",
       "      <th>13</th>\n",
       "      <td>75</td>\n",
       "      <td>MULTILINESTRING ((-122.64041 45.44511, -122.64...</td>\n",
       "    </tr>\n",
       "    <tr>\n",
       "      <th>14</th>\n",
       "      <td>8</td>\n",
       "      <td>MULTILINESTRING ((-122.68322 45.49704, -122.68...</td>\n",
       "    </tr>\n",
       "    <tr>\n",
       "      <th>15</th>\n",
       "      <td>9</td>\n",
       "      <td>MULTILINESTRING ((-122.47693 45.49074, -122.47...</td>\n",
       "    </tr>\n",
       "    <tr>\n",
       "      <th>16</th>\n",
       "      <td>92</td>\n",
       "      <td>LINESTRING (-122.68796 45.51624, -122.68775 45...</td>\n",
       "    </tr>\n",
       "  </tbody>\n",
       "</table>\n",
       "</div>"
      ],
      "text/plain": [
       "   public_rte                                           geometry\n",
       "0          12  MULTILINESTRING ((-122.76825 45.43248, -122.76...\n",
       "1          14  MULTILINESTRING ((-122.56347 45.47820, -122.56...\n",
       "2          15  MULTILINESTRING ((-122.56281 45.51402, -122.56...\n",
       "3           2  MULTILINESTRING ((-122.42647 45.50264, -122.42...\n",
       "4         291  LINESTRING (-122.67530 45.52776, -122.67556 45...\n",
       "5          33  MULTILINESTRING ((-122.58041 45.32412, -122.57...\n",
       "6           4  MULTILINESTRING ((-122.67957 45.51475, -122.67...\n",
       "7          54  MULTILINESTRING ((-122.67756 45.50620, -122.67...\n",
       "8          56  MULTILINESTRING ((-122.74843 45.48617, -122.74...\n",
       "9          57  MULTILINESTRING ((-122.95262 45.50328, -122.95...\n",
       "10          6  MULTILINESTRING ((-122.66078 45.51341, -122.66...\n",
       "11         72  MULTILINESTRING ((-122.56817 45.43560, -122.56...\n",
       "12         73  MULTILINESTRING ((-122.56878 45.47913, -122.57...\n",
       "13         75  MULTILINESTRING ((-122.64041 45.44511, -122.64...\n",
       "14          8  MULTILINESTRING ((-122.68322 45.49704, -122.68...\n",
       "15          9  MULTILINESTRING ((-122.47693 45.49074, -122.47...\n",
       "16         92  LINESTRING (-122.68796 45.51624, -122.68775 45..."
      ]
     },
     "execution_count": 8,
     "metadata": {},
     "output_type": "execute_result"
    }
   ],
   "source": [
    "bus_routes"
   ]
  },
  {
   "cell_type": "markdown",
   "metadata": {},
   "source": [
    "### Write dissolved data frame to GeoJson"
   ]
  },
  {
   "cell_type": "code",
   "execution_count": 9,
   "metadata": {},
   "outputs": [],
   "source": [
    "bus_routes.to_file('bus-routes-dissolved.json', driver='GeoJSON')"
   ]
  },
  {
   "cell_type": "code",
   "execution_count": null,
   "metadata": {},
   "outputs": [],
   "source": []
  }
 ],
 "metadata": {
  "kernelspec": {
   "display_name": "Python 3",
   "language": "python",
   "name": "python3"
  },
  "language_info": {
   "codemirror_mode": {
    "name": "ipython",
    "version": 3
   },
   "file_extension": ".py",
   "mimetype": "text/x-python",
   "name": "python",
   "nbconvert_exporter": "python",
   "pygments_lexer": "ipython3",
   "version": "3.7.2"
  }
 },
 "nbformat": 4,
 "nbformat_minor": 2
}
